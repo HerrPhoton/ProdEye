{
 "cells": [
  {
   "cell_type": "code",
   "execution_count": 1,
   "metadata": {},
   "outputs": [],
   "source": [
    "import sys\n",
    "sys.path.append('..')\n",
    "\n",
    "from scripts.duplicates_handler import DuplicatesHandler\n"
   ]
  },
  {
   "cell_type": "code",
   "execution_count": 2,
   "metadata": {},
   "outputs": [
    {
     "name": "stdout",
     "output_type": "stream",
     "text": [
      " 100% |█████████████████| 480/480 [60.3ms elapsed, 0s remaining, 8.0K samples/s]   \n",
      " 100% |█████████████████| 480/480 [118.7ms elapsed, 0s remaining, 4.1K samples/s]  \n",
      " 100% |███████████████████| 34/34 [13.2ms elapsed, 0s remaining, 2.6K samples/s]      \n",
      " 100% |███████████████████| 34/34 [12.2ms elapsed, 0s remaining, 2.8K samples/s]     \n",
      " 100% |███████████████████| 18/18 [11.4ms elapsed, 0s remaining, 1.6K samples/s]      \n",
      " 100% |███████████████████| 18/18 [8.8ms elapsed, 0s remaining, 2.1K samples/s]      \n"
     ]
    }
   ],
   "source": [
    "handler = DuplicatesHandler(dataset_type='yolo', dataset_path='../dataset/raw/Carrot', similarity_threshold=0.8)"
   ]
  },
  {
   "cell_type": "code",
   "execution_count": 3,
   "metadata": {},
   "outputs": [
    {
     "name": "stdout",
     "output_type": "stream",
     "text": [
      " 100% |█████████████████| 532/532 [36.4s elapsed, 0s remaining, 14.4 samples/s]      \n"
     ]
    },
    {
     "name": "stderr",
     "output_type": "stream",
     "text": [
      "Поиск дубликатов: 100%|██████████| 532/532 [00:00<00:00, 798.88it/s]\n"
     ]
    }
   ],
   "source": [
    "handler.find_duplicates()"
   ]
  },
  {
   "cell_type": "code",
   "execution_count": null,
   "metadata": {},
   "outputs": [],
   "source": [
    "handler.view_duplicates()"
   ]
  }
 ],
 "metadata": {
  "kernelspec": {
   "display_name": "Python 3",
   "language": "python",
   "name": "python3"
  },
  "language_info": {
   "codemirror_mode": {
    "name": "ipython",
    "version": 3
   },
   "file_extension": ".py",
   "mimetype": "text/x-python",
   "name": "python",
   "nbconvert_exporter": "python",
   "pygments_lexer": "ipython3",
   "version": "3.10.11"
  }
 },
 "nbformat": 4,
 "nbformat_minor": 2
}
