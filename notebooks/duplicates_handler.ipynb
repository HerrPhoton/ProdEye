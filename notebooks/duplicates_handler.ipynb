{
 "cells": [
  {
   "cell_type": "code",
   "execution_count": 1,
   "metadata": {},
   "outputs": [],
   "source": [
    "import sys\n",
    "sys.path.append('..')\n",
    "\n",
    "from scripts.duplicates_handler import DuplicatesHandler"
   ]
  },
  {
   "cell_type": "code",
   "execution_count": 2,
   "metadata": {},
   "outputs": [
    {
     "name": "stdout",
     "output_type": "stream",
     "text": [
      " 100% |█████████████████| 479/479 [60.0ms elapsed, 0s remaining, 8.0K samples/s]   \n",
      " 100% |█████████████████| 479/479 [116.0ms elapsed, 0s remaining, 4.2K samples/s]  \n",
      " 100% |███████████████████| 34/34 [12.2ms elapsed, 0s remaining, 2.8K samples/s]      \n",
      " 100% |███████████████████| 34/34 [11.5ms elapsed, 0s remaining, 3.0K samples/s]     \n",
      " 100% |███████████████████| 18/18 [10.8ms elapsed, 0s remaining, 1.7K samples/s]      \n",
      " 100% |███████████████████| 18/18 [8.0ms elapsed, 0s remaining, 2.2K samples/s]      \n"
     ]
    }
   ],
   "source": [
    "handler = DuplicatesHandler(dataset_path='../dataset/raw/Carrot', dataset_type='yolo', similarity_threshold=0.94)"
   ]
  },
  {
   "cell_type": "code",
   "execution_count": 3,
   "metadata": {},
   "outputs": [
    {
     "name": "stdout",
     "output_type": "stream",
     "text": [
      " 100% |█████████████████| 531/531 [35.5s elapsed, 0s remaining, 14.2 samples/s]      \n"
     ]
    },
    {
     "name": "stderr",
     "output_type": "stream",
     "text": [
      "Поиск дубликатов: 100%|██████████| 531/531 [00:00<00:00, 1209.57it/s]\n"
     ]
    }
   ],
   "source": [
    "handler.find_duplicates()"
   ]
  },
  {
   "cell_type": "code",
   "execution_count": 4,
   "metadata": {},
   "outputs": [],
   "source": [
    "#handler.view_duplicates()"
   ]
  },
  {
   "cell_type": "code",
   "execution_count": 5,
   "metadata": {},
   "outputs": [],
   "source": [
    "handler.remove_duplicates()"
   ]
  }
 ],
 "metadata": {
  "kernelspec": {
   "display_name": "Python 3",
   "language": "python",
   "name": "python3"
  },
  "language_info": {
   "codemirror_mode": {
    "name": "ipython",
    "version": 3
   },
   "file_extension": ".py",
   "mimetype": "text/x-python",
   "name": "python",
   "nbconvert_exporter": "python",
   "pygments_lexer": "ipython3",
   "version": "3.10.11"
  }
 },
 "nbformat": 4,
 "nbformat_minor": 2
}
