{
 "cells": [
  {
   "cell_type": "code",
   "execution_count": 1,
   "metadata": {},
   "outputs": [],
   "source": [
    "import sys\n",
    "sys.path.append('..')\n",
    "\n",
    "from processing.dataset_merger import YOLODatasetMerger"
   ]
  },
  {
   "cell_type": "code",
   "execution_count": 2,
   "metadata": {},
   "outputs": [
    {
     "name": "stderr",
     "output_type": "stream",
     "text": [
      "2024-12-03 12:37:28,288 - INFO - Начинаем слияние датасетов...\n",
      "Обработка датасетов: 100%|██████████| 22/22 [00:04<00:00,  5.45it/s]\n",
      "2024-12-03 12:37:32,366 - INFO - Слияние датасетов завершено!\n",
      "2024-12-03 12:37:32,366 - INFO - \n",
      "Статистика объединенного датасета:\n",
      "2024-12-03 12:37:32,367 - INFO - Всего классов: 11\n",
      "2024-12-03 12:37:32,367 - INFO - Классы: apple, cucumber, grape, kiwi, lemon, orange, pear, pineapple, potato, tomato, watermelon\n",
      "2024-12-03 12:37:32,368 - INFO - \n",
      "Train:\n",
      "2024-12-03 12:37:32,368 - INFO -   Изображений: 1651\n",
      "2024-12-03 12:37:32,368 - INFO -   Меток: 1651\n",
      "2024-12-03 12:37:32,369 - INFO - \n",
      "Valid:\n",
      "2024-12-03 12:37:32,369 - INFO -   Изображений: 409\n",
      "2024-12-03 12:37:32,370 - INFO -   Меток: 409\n",
      "2024-12-03 12:37:32,370 - INFO - \n",
      "Test:\n",
      "2024-12-03 12:37:32,370 - INFO -   Изображений: 0\n",
      "2024-12-03 12:37:32,371 - INFO -   Меток: 0\n"
     ]
    }
   ],
   "source": [
    "merger = YOLODatasetMerger(source_dir='../../dataset/raw/scrapped', \n",
    "                           output_dir='../../dataset/processed/v1')\n",
    "\n",
    "merger.merge()"
   ]
  }
 ],
 "metadata": {
  "kernelspec": {
   "display_name": "Python 3",
   "language": "python",
   "name": "python3"
  },
  "language_info": {
   "codemirror_mode": {
    "name": "ipython",
    "version": 3
   },
   "file_extension": ".py",
   "mimetype": "text/x-python",
   "name": "python",
   "nbconvert_exporter": "python",
   "pygments_lexer": "ipython3",
   "version": "3.10.11"
  }
 },
 "nbformat": 4,
 "nbformat_minor": 2
}
