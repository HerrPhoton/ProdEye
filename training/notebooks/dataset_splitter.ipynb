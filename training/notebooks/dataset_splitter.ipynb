{
 "cells": [
  {
   "cell_type": "code",
   "execution_count": 1,
   "metadata": {},
   "outputs": [],
   "source": [
    "import sys\n",
    "sys.path.append('..')\n",
    "\n",
    "from processing.dataset_splitter import DatasetSplitter"
   ]
  },
  {
   "cell_type": "code",
   "execution_count": 13,
   "metadata": {},
   "outputs": [],
   "source": [
    "dataset_name = 'watermelon'\n",
    "\n",
    "splitter = DatasetSplitter(images_dir=f'../../dataset/raw/scrapped/{dataset_name}/images', \n",
    "                           labels_dir=f'../../dataset/raw/scrapped/{dataset_name}/labels')\n",
    "\n",
    "splitter.split_dataset(output_dir=f'../../dataset/raw/scrapped/{dataset_name}', \n",
    "                       val_size=0.2)"
   ]
  }
 ],
 "metadata": {
  "kernelspec": {
   "display_name": "Python 3",
   "language": "python",
   "name": "python3"
  },
  "language_info": {
   "codemirror_mode": {
    "name": "ipython",
    "version": 3
   },
   "file_extension": ".py",
   "mimetype": "text/x-python",
   "name": "python",
   "nbconvert_exporter": "python",
   "pygments_lexer": "ipython3",
   "version": "3.10.11"
  }
 },
 "nbformat": 4,
 "nbformat_minor": 2
}
